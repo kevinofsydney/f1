{
 "cells": [
  {
   "cell_type": "code",
   "execution_count": 1,
   "metadata": {},
   "outputs": [],
   "source": [
    "import pandas as pd"
   ]
  },
  {
   "cell_type": "code",
   "execution_count": 16,
   "metadata": {},
   "outputs": [],
   "source": [
    "# Load the files\n",
    "cir_df = pd.read_csv('circuits_l.csv')\n",
    "conresult_df = pd.read_csv('constructor_results_l.csv')\n",
    "constanding_df = pd.read_csv('constructor_standings_l.csv')\n",
    "con_df = pd.read_csv('constructors_l.csv')\n",
    "driver_df = pd.read_csv('driver_l.csv')\n",
    "laptime_df = pd.read_csv('lap_times_l.csv')\n",
    "quali_df = pd.read_csv('qualifying_l.csv')\n",
    "race_df = pd.read_csv('races_l.csv')\n",
    "result_df = pd.read_csv('results_l.csv')\n",
    "status_df = pd.read_csv('status_l.csv')\n",
    "\n",
    "# Set the correct indices \n",
    "race_df['date'] = pd.to_datetime(race_df['date'], dayfirst=True)\n",
    "\n",
    "driver_df.set_index('driverId', inplace=True)\n",
    "quali_df.set_index('qualifyId', inplace=True)\n",
    "laptime_df.set_index('raceId', inplace=True)\n",
    "race_df.set_index('date', inplace=True)\n",
    "result_df.set_index('resultId', inplace=True)\n",
    "\n",
    "# race_df.sort_values('raceId', inplace=True)\n",
    "race_df.sort_index(inplace=True)"
   ]
  },
  {
   "cell_type": "code",
   "execution_count": 20,
   "metadata": {},
   "outputs": [],
   "source": [
    "# race_df['name'].unique()"
   ]
  },
  {
   "cell_type": "code",
   "execution_count": 21,
   "metadata": {},
   "outputs": [],
   "source": [
    "%matplotlib inline\n",
    "# race_df.plot()"
   ]
  },
  {
   "cell_type": "code",
   "execution_count": null,
   "metadata": {},
   "outputs": [],
   "source": [
    "quali_df[ quali_df['driverId'] == 817]\n",
    "quali_df[ quali_df['driverId'] == 817]['position'].plot()"
   ]
  },
  {
   "cell_type": "code",
   "execution_count": null,
   "metadata": {},
   "outputs": [],
   "source": [
    "# Find a driverId via their code\n",
    "driver_df[ driver_df['code'] == 'RIC']"
   ]
  },
  {
   "cell_type": "code",
   "execution_count": null,
   "metadata": {},
   "outputs": [],
   "source": [
    "# RIC driverId is 817\n",
    "ric_result_df = result_df[ result_df['driverId'] == 817 ]\n",
    "print(ric_result_df.head(5))\n",
    "len(ric_result_df['raceId'])\n",
    "# result_df.head(5)\n",
    "ric_result_df['laps'].plot()"
   ]
  }
 ],
 "metadata": {
  "kernelspec": {
   "display_name": "Python 3",
   "language": "python",
   "name": "python3"
  },
  "language_info": {
   "codemirror_mode": {
    "name": "ipython",
    "version": 3
   },
   "file_extension": ".py",
   "mimetype": "text/x-python",
   "name": "python",
   "nbconvert_exporter": "python",
   "pygments_lexer": "ipython3",
   "version": "3.7.3"
  }
 },
 "nbformat": 4,
 "nbformat_minor": 2
}
